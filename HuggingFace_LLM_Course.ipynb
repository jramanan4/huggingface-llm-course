{
  "nbformat": 4,
  "nbformat_minor": 0,
  "metadata": {
    "colab": {
      "provenance": [],
      "mount_file_id": "1y2dC7DYek6C_yo1clHWwZXEduMpnfnhV",
      "authorship_tag": "ABX9TyPE5Q78oKAEhHk4wCFL9c5d",
      "include_colab_link": true
    },
    "kernelspec": {
      "name": "python3",
      "display_name": "Python 3"
    },
    "language_info": {
      "name": "python"
    }
  },
  "cells": [
    {
      "cell_type": "markdown",
      "metadata": {
        "id": "view-in-github",
        "colab_type": "text"
      },
      "source": [
        "<a href=\"https://colab.research.google.com/github/jramanan4/huggingface-llm-course/blob/main/HuggingFace_LLM_Course.ipynb\" target=\"_parent\"><img src=\"https://colab.research.google.com/assets/colab-badge.svg\" alt=\"Open In Colab\"/></a>"
      ]
    },
    {
      "cell_type": "markdown",
      "source": [
        "# Hugging Face LLM Course"
      ],
      "metadata": {
        "id": "X24f4rzJCBVw"
      }
    },
    {
      "cell_type": "code",
      "source": [
        "## README Code\n",
        "with open('README.md', 'a') as f:\n",
        "    f.write('\\n## My experimentation and exploration using Hugging Face\\n')\n",
        "    f.write('More info to be updated later! .\\n')\n",
        "\n",
        "print(\"Content appended to README.md successfully!\")"
      ],
      "metadata": {
        "colab": {
          "base_uri": "https://localhost:8080/"
        },
        "id": "-0DFXftb7whD",
        "outputId": "830754de-e134-4c2f-f4df-76eb2888f45c"
      },
      "execution_count": 2,
      "outputs": [
        {
          "output_type": "stream",
          "name": "stdout",
          "text": [
            "Content appended to README.md successfully!\n"
          ]
        }
      ]
    },
    {
      "cell_type": "markdown",
      "source": [
        "## TRANSFORMERS 🚘"
      ],
      "metadata": {
        "id": "OKdOIwh0COVg"
      }
    },
    {
      "cell_type": "code",
      "execution_count": null,
      "metadata": {
        "id": "yWjqdTsxB16-"
      },
      "outputs": [],
      "source": [
        "pipeline()"
      ]
    }
  ]
}